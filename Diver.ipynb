{
 "cells": [
  {
   "cell_type": "code",
   "execution_count": 1,
   "id": "b10ea23b",
   "metadata": {},
   "outputs": [],
   "source": [
    "import numpy as np\n",
    "import matplotlib.pyplot as plt"
   ]
  },
  {
   "cell_type": "markdown",
   "id": "3faf23b2",
   "metadata": {},
   "source": [
    "Typical section"
   ]
  },
  {
   "cell_type": "code",
   "execution_count": 14,
   "id": "4c141edc",
   "metadata": {},
   "outputs": [
    {
     "name": "stdout",
     "output_type": "stream",
     "text": [
      "Divergence Dynamic pressure is: 6.884\n",
      "Divergence Velocity is: 3.352 m/s\n",
      "Reversak Dynamic pressure is: -6.884\n"
     ]
    }
   ],
   "source": [
    "rho = 1.225\n",
    "Kt = 1\n",
    "c = 0.34\n",
    "S = c*1\n",
    "e = c/5\n",
    "Cla = 2*np.pi\n",
    "Clb = 2\n",
    "Cmb = 0.4\n",
    "\n",
    "qD = Kt/(S*e*Cla)\n",
    "UD = np.sqrt(2*qD/rho)\n",
    "qR = -(Clb*Kt)/(S*c*Cmb*Cla)\n",
    "print(\"Divergence Dynamic pressure is: {:.3f}\".format(qD))\n",
    "print(\"Divergence Velocity is: {:.3f} m/s\".format(UD))\n",
    "print(\"Reversak Dynamic pressure is: {:.3f}\".format(qR))\n"
   ]
  },
  {
   "cell_type": "markdown",
   "id": "23195f7a",
   "metadata": {},
   "source": [
    "Flying door"
   ]
  },
  {
   "cell_type": "code",
   "execution_count": 18,
   "id": "42996801",
   "metadata": {},
   "outputs": [
    {
     "name": "stdout",
     "output_type": "stream",
     "text": [
      "Divergence Dynamic pressure is: 0.064\n",
      "Divergence Velocity is: 3.352 m/s\n"
     ]
    }
   ],
   "source": [
    "c_bar = 1\n",
    "e_bar = c_bar/4\n",
    "lam = -30*np.pi/180\n",
    "b = 4\n",
    "Kp = 2\n",
    "qD_fd = (Kt/(c_bar*e_bar*b*Cla))/(np.cos(lam)**2*(1-(b/e_bar)*(Kt/Kp)*(np.tan(lam)/2)))\n",
    "UD_fd = np.sqrt(2*qD/rho)\n",
    "print(\"Divergence Dynamic pressure is: {:.3f}\".format(qD_fd))\n",
    "print(\"Divergence Velocity is: {:.3f} m/s\".format(UD_fd))"
   ]
  }
 ],
 "metadata": {
  "kernelspec": {
   "display_name": "Python 3",
   "language": "python",
   "name": "python3"
  },
  "language_info": {
   "codemirror_mode": {
    "name": "ipython",
    "version": 3
   },
   "file_extension": ".py",
   "mimetype": "text/x-python",
   "name": "python",
   "nbconvert_exporter": "python",
   "pygments_lexer": "ipython3",
   "version": "3.9.6"
  }
 },
 "nbformat": 4,
 "nbformat_minor": 5
}
